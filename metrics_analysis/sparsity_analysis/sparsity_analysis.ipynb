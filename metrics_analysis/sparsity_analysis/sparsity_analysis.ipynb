{
 "cells": [
  {
   "cell_type": "code",
   "execution_count": null,
   "metadata": {},
   "outputs": [],
   "source": [
    "import scipy as sp\n",
    "import numpy as np\n",
    "from sklearn.datasets import load_svmlight_files"
   ]
  },
  {
   "cell_type": "code",
   "execution_count": null,
   "metadata": {},
   "outputs": [],
   "source": [
    "def load_svmlight_batched(svmformat_file,n=120):\n",
    "    files_names = []\n",
    "    for i in range(n):\n",
    "        files_names.append(svmformat_file + \"Day\" + str(i) + \".svm\")\n",
    "    data = load_svmlight_files(files=files_names)\n",
    "    X_raw = []\n",
    "    for i in range(n):\n",
    "        X_raw+=data[2 * i]\n",
    "        #X=data[2 * i]\n",
    "        #print(type(X),X.shape,X)\n",
    "        #break\n",
    "        #y = data[2 * i + 1]\n",
    "    #print(X_raw)\n",
    "    return sp.sparse.vstack(X_raw,format='csr')\n",
    "\n",
    "    return data_raw"
   ]
  },
  {
   "cell_type": "code",
   "execution_count": null,
   "metadata": {},
   "outputs": [],
   "source": [
    "# n: number of days to load\n",
    "n=5\n",
    "# Dataset location\n",
    "svmformat_file = \"../../url_class/datastore/url_svmlight/\""
   ]
  },
  {
   "cell_type": "code",
   "execution_count": null,
   "metadata": {},
   "outputs": [],
   "source": [
    "data_raw = load_svmlight_batched(svmformat_file,n)"
   ]
  },
  {
   "cell_type": "code",
   "execution_count": null,
   "metadata": {},
   "outputs": [],
   "source": [
    "count_no_null_row_wise = (data_raw != 0).sum(1)\n",
    "mean_no_null = np.mean(count_no_null_row_wise)\n",
    "max_no_null = np.max(count_no_null_row_wise)\n",
    "min_no_null = np.min(count_no_null_row_wise)\n",
    "count_neg = np.sum((data_raw < 0).sum(1))\n",
    "count_total_no_null = (data_raw != 0).sum(1).sum()\n",
    "print(f\"mean_no_null: {mean_no_null}\\nmax_no_null: {max_no_null}\\nmin_no_null: {min_no_null}\\ncount_neg: {count_neg}\\ncount_total_no_null: {count_total_no_null}\")"
   ]
  },
  {
   "cell_type": "code",
   "execution_count": null,
   "metadata": {},
   "outputs": [],
   "source": []
  }
 ],
 "metadata": {
  "kernelspec": {
   "display_name": "Python 3",
   "language": "python",
   "name": "python3"
  },
  "language_info": {
   "codemirror_mode": {
    "name": "ipython",
    "version": 3
   },
   "file_extension": ".py",
   "mimetype": "text/x-python",
   "name": "python",
   "nbconvert_exporter": "python",
   "pygments_lexer": "ipython3",
   "version": "3.8.5"
  }
 },
 "nbformat": 4,
 "nbformat_minor": 4
}
